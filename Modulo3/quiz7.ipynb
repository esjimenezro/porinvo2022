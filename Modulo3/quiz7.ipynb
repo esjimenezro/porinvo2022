{
 "cells": [
  {
   "cell_type": "code",
   "execution_count": null,
   "metadata": {},
   "outputs": [],
   "source": [
    "Considere las siguientes inversiones\n",
    "Inversión \tRendimiento esperadoE[r] \tDesviación estándar σ\n",
    "A \t20% \t30%\n",
    "B \t13% \t15%\n",
    "C \t23% \t45%\n",
    "\n",
    "¿Cuál inversión brinda más utilidad, si tus preferencias están representadas por la utilidad media-varianza \n",
    "y tu coeficiente de aversión al riesgo es 3?\n"
   ]
  },
  {
   "cell_type": "code",
   "execution_count": 1,
   "metadata": {},
   "outputs": [
    {
     "data": {
      "text/plain": [
       "(0.065, 0.09625, -0.07375000000000001)"
      ]
     },
     "execution_count": 1,
     "metadata": {},
     "output_type": "execute_result"
    }
   ],
   "source": [
    "g = 3\n",
    "era = 0.2\n",
    "sa = 0.3\n",
    "erb = 0.13\n",
    "sb = 0.15\n",
    "erc = 0.23\n",
    "sc = 0.45\n",
    "Ua = era - 0.5 * g * sa**2\n",
    "Ub = erb - 0.5 * g * sb**2\n",
    "Uc = erc - 0.5 * g * sc**2\n",
    "Ua, Ub, Uc"
   ]
  },
  {
   "cell_type": "markdown",
   "metadata": {},
   "source": [
    "Tu asesor financiero te ofrece un portafolio de activos de la BMV con un rendimiento esperado del 20% y una desviación estándar del 30%. Supón que en ese mismo momento, puedes comprar cetes ofreciendo un rendimiento del 5% libre de riesgo. Supón también que tus preferencias se pueden describir mediante utilidad media-varianza y que tu coeficiente de aversión al riesgo es de γ=2. ¿Qué preferirías? "
   ]
  },
  {
   "cell_type": "code",
   "execution_count": 2,
   "metadata": {},
   "outputs": [
    {
     "data": {
      "text/plain": [
       "0.11000000000000001"
      ]
     },
     "execution_count": 2,
     "metadata": {},
     "output_type": "execute_result"
    }
   ],
   "source": [
    "erp = 0.2\n",
    "sp = 0.3\n",
    "Up = erp - 0.5 * 2 * 0.3**2\n",
    "Up"
   ]
  },
  {
   "cell_type": "code",
   "execution_count": 3,
   "metadata": {},
   "outputs": [
    {
     "data": {
      "text/plain": [
       "0.05"
      ]
     },
     "execution_count": 3,
     "metadata": {},
     "output_type": "execute_result"
    }
   ],
   "source": [
    "Ucetes = 0.05\n",
    "Ucetes"
   ]
  },
  {
   "cell_type": "code",
   "execution_count": null,
   "metadata": {},
   "outputs": [],
   "source": []
  }
 ],
 "metadata": {
  "kernelspec": {
   "display_name": "Python 3",
   "language": "python",
   "name": "python3"
  },
  "language_info": {
   "codemirror_mode": {
    "name": "ipython",
    "version": 3
   },
   "file_extension": ".py",
   "mimetype": "text/x-python",
   "name": "python",
   "nbconvert_exporter": "python",
   "pygments_lexer": "ipython3",
   "version": "3.7.6"
  }
 },
 "nbformat": 4,
 "nbformat_minor": 4
}
