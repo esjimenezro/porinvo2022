{
 "cells": [
  {
   "cell_type": "markdown",
   "metadata": {},
   "source": [
    "\n",
    "\n",
    "Considere la siguiente distribución de rendimientos de los activos A, B y C:\n",
    "Probabilidad \tRendimiento A \tRendimiento B \tRendimiento C\n",
    "20% \t-0.20 \t-0.05 \t0.05\n",
    "30% \t0.05 \t0.10 \t0.03\n",
    "50% \t0.40 \t0.15 \t0.02\n",
    "\n",
    "Calcule el rendimiento esperado de un portafolio compuesto 40% por el activo A, 40% por el activo B y 20% por el activo C.\n"
   ]
  },
  {
   "cell_type": "code",
   "execution_count": 1,
   "metadata": {},
   "outputs": [],
   "source": [
    "import pandas as pd"
   ]
  },
  {
   "cell_type": "code",
   "execution_count": 2,
   "metadata": {},
   "outputs": [
    {
     "data": {
      "text/html": [
       "<div>\n",
       "<style scoped>\n",
       "    .dataframe tbody tr th:only-of-type {\n",
       "        vertical-align: middle;\n",
       "    }\n",
       "\n",
       "    .dataframe tbody tr th {\n",
       "        vertical-align: top;\n",
       "    }\n",
       "\n",
       "    .dataframe thead th {\n",
       "        text-align: right;\n",
       "    }\n",
       "</style>\n",
       "<table border=\"1\" class=\"dataframe\">\n",
       "  <thead>\n",
       "    <tr style=\"text-align: right;\">\n",
       "      <th></th>\n",
       "      <th>prob</th>\n",
       "      <th>a</th>\n",
       "      <th>b</th>\n",
       "      <th>c</th>\n",
       "    </tr>\n",
       "  </thead>\n",
       "  <tbody>\n",
       "    <tr>\n",
       "      <th>0</th>\n",
       "      <td>0.2</td>\n",
       "      <td>-0.20</td>\n",
       "      <td>-0.05</td>\n",
       "      <td>0.05</td>\n",
       "    </tr>\n",
       "    <tr>\n",
       "      <th>1</th>\n",
       "      <td>0.3</td>\n",
       "      <td>0.05</td>\n",
       "      <td>0.10</td>\n",
       "      <td>0.03</td>\n",
       "    </tr>\n",
       "    <tr>\n",
       "      <th>2</th>\n",
       "      <td>0.5</td>\n",
       "      <td>0.40</td>\n",
       "      <td>0.15</td>\n",
       "      <td>0.02</td>\n",
       "    </tr>\n",
       "  </tbody>\n",
       "</table>\n",
       "</div>"
      ],
      "text/plain": [
       "   prob     a     b     c\n",
       "0   0.2 -0.20 -0.05  0.05\n",
       "1   0.3  0.05  0.10  0.03\n",
       "2   0.5  0.40  0.15  0.02"
      ]
     },
     "execution_count": 2,
     "metadata": {},
     "output_type": "execute_result"
    }
   ],
   "source": [
    "tabla = pd.DataFrame({\n",
    "    'prob': [0.2, 0.3, 0.5],\n",
    "    'a': [-0.2, 0.05, 0.4],\n",
    "    'b': [-0.05, 0.1, 0.15],\n",
    "    'c': [0.05, 0.03, 0.02]\n",
    "})\n",
    "tabla"
   ]
  },
  {
   "cell_type": "code",
   "execution_count": 4,
   "metadata": {},
   "outputs": [
    {
     "data": {
      "text/plain": [
       "(0.175, 0.095, 0.029000000000000005)"
      ]
     },
     "execution_count": 4,
     "metadata": {},
     "output_type": "execute_result"
    }
   ],
   "source": [
    "era = (tabla['prob'] * tabla['a']).sum()\n",
    "erb = (tabla['prob'] * tabla['b']).sum()\n",
    "erc = (tabla['prob'] * tabla['c']).sum()\n",
    "era, erb, erc"
   ]
  },
  {
   "cell_type": "code",
   "execution_count": 5,
   "metadata": {},
   "outputs": [
    {
     "data": {
      "text/plain": [
       "0.1138"
      ]
     },
     "execution_count": 5,
     "metadata": {},
     "output_type": "execute_result"
    }
   ],
   "source": [
    "0.4 * era + 0.4 * erb + 0.2 * erc"
   ]
  },
  {
   "cell_type": "code",
   "execution_count": 6,
   "metadata": {},
   "outputs": [
    {
     "data": {
      "text/plain": [
       "0.09966666666666668"
      ]
     },
     "execution_count": 6,
     "metadata": {},
     "output_type": "execute_result"
    }
   ],
   "source": [
    "(era + erb + erc) / 3"
   ]
  },
  {
   "cell_type": "markdown",
   "metadata": {},
   "source": [
    "Un inversionista tiene un capital total para invertir de $50,000, y quiere invertir en un portafolio con tres activos A, B y C, cuyos rendimientos esperados son E[RA]=20%, E[RB]=15% y E[RC]=17%, respectivamente. Si el inversionista elige invertir $5,000 en el activo A, $22,500 en el activo B y $22,500 en el activo C, ¿cuál es el rendimiento esperado de su portafolio? "
   ]
  },
  {
   "cell_type": "code",
   "execution_count": 7,
   "metadata": {},
   "outputs": [],
   "source": [
    "era, erb, erc = 0.2, 0.15, 0.17"
   ]
  },
  {
   "cell_type": "code",
   "execution_count": 8,
   "metadata": {},
   "outputs": [
    {
     "data": {
      "text/plain": [
       "(0.1, 0.45, 0.45)"
      ]
     },
     "execution_count": 8,
     "metadata": {},
     "output_type": "execute_result"
    }
   ],
   "source": [
    "wa, wb, wc = 5000 / 50000, 22500 / 50000, 22500 / 50000\n",
    "wa, wb, wc"
   ]
  },
  {
   "cell_type": "code",
   "execution_count": 9,
   "metadata": {},
   "outputs": [
    {
     "data": {
      "text/plain": [
       "0.16400000000000003"
      ]
     },
     "execution_count": 9,
     "metadata": {},
     "output_type": "execute_result"
    }
   ],
   "source": [
    "wa * era + wb * erb + wc * erc"
   ]
  },
  {
   "cell_type": "markdown",
   "metadata": {},
   "source": [
    " Un inversionista tiene un capital total para invertir de $50,000, y quiere invertir en un portafolio con tres activos A, B y C, cuyos rendimientos esperados son E[RA]=20%, E[RB]=15% y E[RC]=17%, respectivamente. Si el inversionista elige invertir $10,000 en el activo A, $20,000 en el activo B y $20,000 en el activo C, ¿cuál es el rendimiento esperado de su portafolio? "
   ]
  },
  {
   "cell_type": "code",
   "execution_count": 10,
   "metadata": {},
   "outputs": [
    {
     "data": {
      "text/plain": [
       "(0.2, 0.4, 0.4)"
      ]
     },
     "execution_count": 10,
     "metadata": {},
     "output_type": "execute_result"
    }
   ],
   "source": [
    "wa, wb, wc = 10000 / 50000, 20000 / 50000, 20000 / 50000\n",
    "wa, wb, wc"
   ]
  },
  {
   "cell_type": "code",
   "execution_count": 11,
   "metadata": {},
   "outputs": [
    {
     "data": {
      "text/plain": [
       "0.168"
      ]
     },
     "execution_count": 11,
     "metadata": {},
     "output_type": "execute_result"
    }
   ],
   "source": [
    "wa * era + wb * erb + wc * erc"
   ]
  },
  {
   "cell_type": "markdown",
   "metadata": {},
   "source": [
    "\n",
    "\n",
    "Considere la siguiente distribución de rendimientos de los activos A, B y C:\n",
    "Probabilidad \tRendimiento A \tRendimiento B \tRendimiento C\n",
    "20% \t-0.20 \t-0.05 \t0.05\n",
    "30% \t0.05 \t0.10 \t0.03\n",
    "50% \t0.40 \t0.15 \t0.02\n",
    "\n",
    "¿Cuáles de las siguientes medidas de covarianza son correctas? (Se deben elegir todas las que sean correctas)\n"
   ]
  },
  {
   "cell_type": "code",
   "execution_count": null,
   "metadata": {},
   "outputs": [],
   "source": [
    "σBC=-0.000855 "
   ]
  },
  {
   "cell_type": "code",
   "execution_count": 12,
   "metadata": {},
   "outputs": [
    {
     "data": {
      "text/plain": [
       "(0.175, 0.095, 0.029000000000000005)"
      ]
     },
     "execution_count": 12,
     "metadata": {},
     "output_type": "execute_result"
    }
   ],
   "source": [
    "era = (tabla['prob'] * tabla['a']).sum()\n",
    "erb = (tabla['prob'] * tabla['b']).sum()\n",
    "erc = (tabla['prob'] * tabla['c']).sum()\n",
    "era, erb, erc"
   ]
  },
  {
   "cell_type": "code",
   "execution_count": 13,
   "metadata": {},
   "outputs": [
    {
     "data": {
      "text/plain": [
       "-0.0008550000000000002"
      ]
     },
     "execution_count": 13,
     "metadata": {},
     "output_type": "execute_result"
    }
   ],
   "source": [
    "covBC = (tabla['prob'] * (tabla['b'] - erb) * (tabla['c'] - erc)).sum()\n",
    "covBC"
   ]
  },
  {
   "cell_type": "code",
   "execution_count": null,
   "metadata": {},
   "outputs": [],
   "source": [
    "σAB=0.016875 "
   ]
  },
  {
   "cell_type": "code",
   "execution_count": 14,
   "metadata": {},
   "outputs": [
    {
     "data": {
      "text/plain": [
       "0.016875"
      ]
     },
     "execution_count": 14,
     "metadata": {},
     "output_type": "execute_result"
    }
   ],
   "source": [
    "covAB = (tabla['prob'] * (tabla['a'] - era) * (tabla['b'] - erb)).sum()\n",
    "covAB"
   ]
  },
  {
   "cell_type": "code",
   "execution_count": null,
   "metadata": {},
   "outputs": [],
   "source": [
    "σAC=-0.002625"
   ]
  },
  {
   "cell_type": "code",
   "execution_count": 15,
   "metadata": {},
   "outputs": [
    {
     "data": {
      "text/plain": [
       "-0.0026250000000000006"
      ]
     },
     "execution_count": 15,
     "metadata": {},
     "output_type": "execute_result"
    }
   ],
   "source": [
    "covAC = (tabla['prob'] * (tabla['a'] - era) * (tabla['c'] - erc)).sum()\n",
    "covAC"
   ]
  },
  {
   "cell_type": "markdown",
   "metadata": {},
   "source": [
    "\n",
    "\n",
    "Considere la siguiente distribución de rendimientos de los activos A, B y C:\n",
    "Probabilidad \tRendimiento A \tRendimiento B \tRendimiento C\n",
    "20% \t-0.20 \t-0.05 \t0.05\n",
    "30% \t0.05 \t0.10 \t0.03\n",
    "50% \t0.40 \t0.15 \t0.02\n",
    "\n",
    "Sabiendo que σA=0.2411, σB=0.0757 y σC=0.0114, ¿cuáles de las siguientes medidas de correlación son correctas? (Se deben elegir todas las que sean correctas)\n"
   ]
  },
  {
   "cell_type": "code",
   "execution_count": 23,
   "metadata": {},
   "outputs": [
    {
     "data": {
      "text/plain": [
       "(0.2410912690248239, 0.07566372975210779, 0.011357816691600547)"
      ]
     },
     "execution_count": 23,
     "metadata": {},
     "output_type": "execute_result"
    }
   ],
   "source": [
    "sa = (tabla['prob'] * (tabla['a'] - era)**2).sum()**0.5 #  0.2411\n",
    "sb = (tabla['prob'] * (tabla['b'] - erb)**2).sum()**0.5 # 0.0757\n",
    "sc = (tabla['prob'] * (tabla['c'] - erc)**2).sum()**0.5 # 0.0114\n",
    "sa, sb, sc"
   ]
  },
  {
   "cell_type": "code",
   "execution_count": 24,
   "metadata": {},
   "outputs": [
    {
     "data": {
      "text/plain": [
       "0.9250699063292455"
      ]
     },
     "execution_count": 24,
     "metadata": {},
     "output_type": "execute_result"
    }
   ],
   "source": [
    "corrAB = covAB / (sa * sb)\n",
    "corrAB"
   ]
  },
  {
   "cell_type": "code",
   "execution_count": 25,
   "metadata": {},
   "outputs": [
    {
     "data": {
      "text/plain": [
       "-0.9949093540256491"
      ]
     },
     "execution_count": 25,
     "metadata": {},
     "output_type": "execute_result"
    }
   ],
   "source": [
    "corrBC = covBC / (sb * sc)\n",
    "corrBC"
   ]
  },
  {
   "cell_type": "code",
   "execution_count": 26,
   "metadata": {},
   "outputs": [
    {
     "data": {
      "text/plain": [
       "-0.9586343124133594"
      ]
     },
     "execution_count": 26,
     "metadata": {},
     "output_type": "execute_result"
    }
   ],
   "source": [
    "corrAC = covAC / (sa * sc)\n",
    "corrAC"
   ]
  },
  {
   "cell_type": "code",
   "execution_count": null,
   "metadata": {},
   "outputs": [],
   "source": []
  },
  {
   "cell_type": "code",
   "execution_count": null,
   "metadata": {},
   "outputs": [],
   "source": []
  }
 ],
 "metadata": {
  "kernelspec": {
   "display_name": "Python 3",
   "language": "python",
   "name": "python3"
  },
  "language_info": {
   "codemirror_mode": {
    "name": "ipython",
    "version": 3
   },
   "file_extension": ".py",
   "mimetype": "text/x-python",
   "name": "python",
   "nbconvert_exporter": "python",
   "pygments_lexer": "ipython3",
   "version": "3.7.6"
  }
 },
 "nbformat": 4,
 "nbformat_minor": 4
}
